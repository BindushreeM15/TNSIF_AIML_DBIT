{
 "cells": [
  {
   "cell_type": "code",
   "execution_count": 1,
   "id": "5d22ca0d-d6a0-4e0f-9290-1def23971663",
   "metadata": {},
   "outputs": [
    {
     "name": "stdout",
     "output_type": "stream",
     "text": [
      "   CustomerID  Annual Income  Spending Score\n",
      "0           1             15              39\n",
      "1           2             16              81\n",
      "2           3             17               6\n",
      "3           4             18              77\n",
      "4           5             19              40\n",
      "5           6             20              76\n",
      "6           7             21               6\n",
      "7           8             22              94\n",
      "8           9             23               3\n",
      "9          10             24              72\n"
     ]
    }
   ],
   "source": [
    "import pandas as pd\n",
    "data = {\n",
    "    'CustomerID': [1,2,3,4,5,6,7,8,9,10],\n",
    "    'Annual Income': [15,16,17,18,19,20,21,22,23,24],\n",
    "    'Spending Score': [39,81,6,77,40,76,6,94,3,72]\n",
    "}\n",
    "df = pd.DataFrame(data)\n",
    "print(df)"
   ]
  },
  {
   "cell_type": "code",
   "execution_count": 2,
   "id": "a5e4af22-a46f-41a3-af5e-ecfe261c98ea",
   "metadata": {},
   "outputs": [],
   "source": [
    "X = df[['Annual Income', 'Spending Score']]"
   ]
  },
  {
   "cell_type": "code",
   "execution_count": 3,
   "id": "e9a5d20a-1dcf-43dc-8c7a-dee72261d0f2",
   "metadata": {},
   "outputs": [
    {
     "data": {
      "image/png": "[encoded data removed]",
      "text/plain": [
       "<Figure size 800x400 with 1 Axes>"
      ]
     },
     "metadata": {},
     "output_type": "display_data"
    }
   ],
   "source": [
    "from scipy.cluster.hierarchy import dendrogram, linkage\n",
    "import matplotlib.pyplot as plt\n",
    "\n",
    "linked = linkage(X, method='ward')\n",
    "plt.figure(figsize=(8,4))\n",
    "dendrogram(linked, labels=df['CustomerID'].values)\n",
    "plt.title('Dendrogram')\n",
    "plt.xlabel('CustomerID')\n",
    "plt.ylabel('Euclidean distance')\n",
    "plt.grid(True)\n",
    "plt.show()"
   ]
  },
  {
   "cell_type": "code",
   "execution_count": 5,
   "id": "02d4f2b5-68e7-4321-a30e-853a27f6e06f",
   "metadata": {},
   "outputs": [
    {
     "name": "stdout",
     "output_type": "stream",
     "text": [
      "We will consider by looking at the gap in the dendogram\n"
     ]
    }
   ],
   "source": [
    "print(\"We will consider by looking at the gap in the dendogram\")"
   ]
  },
  {
   "cell_type": "code",
   "execution_count": 7,
   "id": "8f562f38-b462-4cae-8982-bc31b0717f63",
   "metadata": {},
   "outputs": [],
   "source": [
    "from sklearn.cluster import AgglomerativeClustering\n",
    "n_clusters = 3 \n",
    "agglo = AgglomerativeClustering(n_clusters=n_clusters)\n",
    "df['Cluster'] = agglo.fit_predict(X)"
   ]
  },
  {
   "cell_type": "code",
   "execution_count": 8,
   "id": "2966a91b-bdfc-4f17-a524-fffa9b61be97",
   "metadata": {},
   "outputs": [
    {
     "name": "stdout",
     "output_type": "stream",
     "text": [
      "   CustomerID  Annual Income  Spending Score  Cluster\n",
      "0           1             15              39        2\n",
      "1           2             16              81        0\n",
      "2           3             17               6        1\n",
      "3           4             18              77        0\n",
      "4           5             19              40        2\n",
      "5           6             20              76        0\n",
      "6           7             21               6        1\n",
      "7           8             22              94        0\n",
      "8           9             23               3        1\n",
      "9          10             24              72        0\n",
      "Cluster 0: High spending scores, varied income\n",
      "Cluster 1: Very low spending scores, varied income\n",
      "Cluster 2: Moderate spending and income \n"
     ]
    }
   ],
   "source": [
    "print(df[['CustomerID', 'Annual Income', 'Spending Score', 'Cluster']])\n",
    "print(\"\"\"Cluster 0: High spending scores, varied income\n",
    "Cluster 1: Very low spending scores, varied income\n",
    "Cluster 2: Moderate spending and income \"\"\")"
   ]
  },
  {
   "cell_type": "code",
   "execution_count": 9,
   "id": "c0d1cdc2-f3f9-499f-b607-093719ad813e",
   "metadata": {},
   "outputs": [
    {
     "name": "stdout",
     "output_type": "stream",
     "text": [
      "\n",
      "Cluster 0 Summary:\n",
      "       Annual Income  Spending Score\n",
      "count       5.000000        5.000000\n",
      "mean       20.000000       80.000000\n",
      "std         3.162278        8.455767\n",
      "min        16.000000       72.000000\n",
      "25%        18.000000       76.000000\n",
      "50%        20.000000       77.000000\n",
      "75%        22.000000       81.000000\n",
      "max        24.000000       94.000000\n",
      "\n",
      "Cluster 1 Summary:\n",
      "       Annual Income  Spending Score\n",
      "count       3.000000        3.000000\n",
      "mean       20.333333        5.000000\n",
      "std         3.055050        1.732051\n",
      "min        17.000000        3.000000\n",
      "25%        19.000000        4.500000\n",
      "50%        21.000000        6.000000\n",
      "75%        22.000000        6.000000\n",
      "max        23.000000        6.000000\n",
      "\n",
      "Cluster 2 Summary:\n",
      "       Annual Income  Spending Score\n",
      "count       2.000000        2.000000\n",
      "mean       17.000000       39.500000\n",
      "std         2.828427        0.707107\n",
      "min        15.000000       39.000000\n",
      "25%        16.000000       39.250000\n",
      "50%        17.000000       39.500000\n",
      "75%        18.000000       39.750000\n",
      "max        19.000000       40.000000\n"
     ]
    }
   ],
   "source": [
    "for cluster in sorted(df['Cluster'].unique()):\n",
    "    group = df[df['Cluster'] == cluster]\n",
    "    print(f\"\\nCluster {cluster} Summary:\")\n",
    "    print(group[['Annual Income', 'Spending Score']].describe())"
   ]
  },
  {
   "cell_type": "code",
   "execution_count": null,
   "id": "5202303f-d687-4f27-8b47-afd6763595fa",
   "metadata": {},
   "outputs": [],
   "source": []
  }
 ],
 "metadata": {
  "kernelspec": {
   "display_name": "Python 3 (ipykernel)",
   "language": "python",
   "name": "python3"
  },
  "language_info": {
   "codemirror_mode": {
    "name": "ipython",
    "version": 3
   },
   "file_extension": ".py",
   "mimetype": "text/x-python",
   "name": "python",
   "nbconvert_exporter": "python",
   "pygments_lexer": "ipython3",
   "version": "3.13.5"
  }
 },
 "nbformat": 4,
 "nbformat_minor": 5
}
