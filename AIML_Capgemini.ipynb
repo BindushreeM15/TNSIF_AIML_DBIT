{
 "cells": [
  {
   "cell_type": "code",
   "execution_count": 12,
   "id": "5ef011b4-c890-4a01-943d-f3c78a10ba57",
   "metadata": {},
   "outputs": [
    {
     "name": "stdin",
     "output_type": "stream",
     "text": [
      "Enter PIN:  1234\n"
     ]
    },
    {
     "name": "stdout",
     "output_type": "stream",
     "text": [
      "Allow\n",
      "\n",
      "1.Check Balance\n",
      "2.Deposit Money\n",
      "3.Withdraw Money\n",
      "4.Exit\n"
     ]
    },
    {
     "name": "stdin",
     "output_type": "stream",
     "text": [
      "Choose an option :  4\n"
     ]
    },
    {
     "name": "stdout",
     "output_type": "stream",
     "text": [
      "Exit\n"
     ]
    }
   ],
   "source": [
    "pin = \"1234\"\n",
    "balance = 10000\n",
    "attempts = 0\n",
    "max_attempts = 3\n",
    "while attempts < max_attempts:\n",
    "    userpin = input(\"Enter PIN: \")\n",
    "    if userpin == pin:\n",
    "        print(\"Allow\\n\")\n",
    "        while True:\n",
    "            print(\"1.Check Balance\")\n",
    "            print(\"2.Deposit Money\")\n",
    "            print(\"3.Withdraw Money\")\n",
    "            print(\"4.Exit\")\n",
    "            choice = input(\"Choose an option : \")\n",
    "            if choice == \"1\":\n",
    "                print(\"Balance:\", balance)\n",
    "            elif choice == \"2\":\n",
    "                amount = int(input(\"Enter deposit amount: \"))\n",
    "                balance += amount\n",
    "                print(\"Deposited\", amount)\n",
    "            elif choice == \"3\":\n",
    "                amount = int(input(\"Enter withdrawal amount: \"))\n",
    "                    # amount = int(amount)\n",
    "                if amount <= balance:\n",
    "                    balance -= amount\n",
    "                    print(\"Withdrawn\", amount)\n",
    "                else:\n",
    "                    print(\"Insufficient balance.\")\n",
    "            elif choice == \"4\":\n",
    "                print(\"Exit\")\n",
    "                break\n",
    "            else:\n",
    "                print(\"Invalid choice.\")\n",
    "        break  \n",
    "    else:\n",
    "        attempts += 1\n",
    "        print(\"Wrong PIN. Attempts left:\", max_attempts - attempts)\n",
    "if attempts == max_attempts:\n",
    "    print(\"Incorrect attempts.\")\n"
   ]
  },
  {
   "cell_type": "code",
   "execution_count": 2,
   "id": "57b96e9f-8ab2-44fe-853f-d0407aeaee93",
   "metadata": {},
   "outputs": [
    {
     "name": "stdin",
     "output_type": "stream",
     "text": [
      "Enter a number: 500\n"
     ]
    },
    {
     "name": "stdout",
     "output_type": "stream",
     "text": [
      "Sum: 500\n",
      "Exceeded: 500\n"
     ]
    }
   ],
   "source": [
    "total=0\n",
    "while total<=300:\n",
    "    num=int(input(\"Enter a number:\"))\n",
    "    total=total+num\n",
    "    print(\"Sum:\",total)\n",
    "print(\"Exceeded:\",total)\n"
   ]
  },
  {
   "cell_type": "code",
   "execution_count": 10,
   "id": "9ef8bdd9-4d14-41fe-8cd6-b33c33ae4e7e",
   "metadata": {},
   "outputs": [
    {
     "name": "stdin",
     "output_type": "stream",
     "text": [
      "enter hi\n"
     ]
    },
    {
     "name": "stdout",
     "output_type": "stream",
     "text": [
      "h\n"
     ]
    }
   ],
   "source": [
    "n=input(\"enter\")\n",
    "for i in n:\n",
    "    if i=='a' or i=='e' or i=='i' or i=='o'or i== 'u' :\n",
    "        continue\n",
    "    else:\n",
    "        print(i)"
   ]
  },
  {
   "cell_type": "code",
   "execution_count": 14,
   "id": "eebee8c8-7cef-4b26-83b7-b5f9f37fbdd2",
   "metadata": {},
   "outputs": [
    {
     "name": "stdin",
     "output_type": "stream",
     "text": [
      "Enter: hi\n",
      "Enter: hello\n",
      "Enter: Bon\n"
     ]
    },
    {
     "name": "stdout",
     "output_type": "stream",
     "text": [
      "Voyage\n"
     ]
    }
   ],
   "source": [
    "while True:\n",
    "    user=input(\"Enter:\")\n",
    "    if user==\"Bon\":\n",
    "        print(\"Voyage\")\n",
    "        break\n"
   ]
  },
  {
   "cell_type": "code",
   "execution_count": 1,
   "id": "b9025301-bd2b-460f-976a-e0b71b343174",
   "metadata": {},
   "outputs": [
    {
     "name": "stdin",
     "output_type": "stream",
     "text": [
      "Enter the address: 88 block\n"
     ]
    },
    {
     "name": "stdout",
     "output_type": "stream",
     "text": [
      "Numbers in the address: 88\n"
     ]
    }
   ],
   "source": [
    "address = input(\"Enter the address:\")\n",
    "num = \"\"\n",
    "for char in address:\n",
    "    if '0' <= char <= '9':\n",
    "        num += char\n",
    "print(\"Numbers in the address:\", num)\n",
    "\n"
   ]
  },
  {
   "cell_type": "code",
   "execution_count": 6,
   "id": "563f4e6d-f765-4749-9959-3d3bfeefbd30",
   "metadata": {},
   "outputs": [
    {
     "name": "stdout",
     "output_type": "stream",
     "text": [
      "Enter 10 numbers:\n"
     ]
    },
    {
     "name": "stdin",
     "output_type": "stream",
     "text": [
      "Element 1:  1\n",
      "Element 2:  2\n",
      "Element 3:  3\n",
      "Element 4:  4\n",
      "Element 5:  5\n",
      "Element 6:  6\n",
      "Element 7:  7\n",
      "Element 8:  8\n",
      "Element 9:  9\n",
      "Element 10:  10\n"
     ]
    },
    {
     "name": "stdout",
     "output_type": "stream",
     "text": [
      "List after removing 3rd and odd elements: [2, 4, 6, 8, 10]\n"
     ]
    }
   ],
   "source": [
    "numbers = []\n",
    "print(\"Enter 10 numbers:\")\n",
    "for i in range(10):\n",
    "    num = int(input(f\"Element {i+1}: \"))\n",
    "    numbers.append(num)\n",
    "numbers.pop(2)\n",
    "final = []\n",
    "for num in numbers:\n",
    "    if num % 2 == 0:\n",
    "        final.append(num)\n",
    "print(\"List after removing 3rd and odd elements:\", final)\n"
   ]
  },
  {
   "cell_type": "code",
   "execution_count": 8,
   "id": "71df0b6c-a078-4b55-ac98-25fe9aa89b8a",
   "metadata": {},
   "outputs": [
    {
     "name": "stdout",
     "output_type": "stream",
     "text": [
      "['r', 'e', 'd', 'r', 'e', 'd', 'r', 'e', 'd']\n"
     ]
    }
   ],
   "source": [
    "l1=['r','e','d']\n",
    "l2=l1*3\n",
    "print(l2)"
   ]
  },
  {
   "cell_type": "code",
   "execution_count": 11,
   "id": "674d2e07-5a53-47c2-8fea-d6b3089ee83a",
   "metadata": {},
   "outputs": [
    {
     "name": "stdout",
     "output_type": "stream",
     "text": [
      "['b', 'n', 'a']\n"
     ]
    }
   ],
   "source": [
    "k=['a','b','n','a']\n",
    "k.remove('a')\n",
    "print(k)"
   ]
  },
  {
   "cell_type": "code",
   "execution_count": 1,
   "id": "5896db87-ac46-472b-8117-189ef4ae708e",
   "metadata": {},
   "outputs": [
    {
     "name": "stdout",
     "output_type": "stream",
     "text": [
      "Enter 5 elements:\n"
     ]
    },
    {
     "name": "stdin",
     "output_type": "stream",
     "text": [
      "Element:  hello\n",
      "Element:  hi\n",
      "Element:  program\n",
      "Element:  aiml\n",
      "Element:  project\n",
      "Enter your name:  ram\n",
      "Enter your names:  asha\n"
     ]
    },
    {
     "name": "stdout",
     "output_type": "stream",
     "text": [
      "List: ['hello', 'hi', 'ram', 'aiml', 'asha']\n"
     ]
    }
   ],
   "source": [
    "lists = []\n",
    "print(\"Enter 5 elements:\")\n",
    "for i in range(5):\n",
    "    element = input(f\"Element: \")\n",
    "    lists.append(element)\n",
    "name = input(\"Enter your name: \")\n",
    "names = input(\"Enter your names: \")\n",
    "lists[2] = name\n",
    "lists[4] = names\n",
    "print(\"List:\",lists)\n"
   ]
  },
  {
   "cell_type": "code",
   "execution_count": 3,
   "id": "30121e03-af11-4431-8a36-4eb00b79df38",
   "metadata": {},
   "outputs": [
    {
     "name": "stdin",
     "output_type": "stream",
     "text": [
      "Enter list elements:  1 2 3 4 5\n",
      "Enter index:  3\n",
      "Enter element to insert:  program\n"
     ]
    },
    {
     "name": "stdout",
     "output_type": "stream",
     "text": [
      "Updated list: ['1', '2', '3', 'program', '4', '5']\n"
     ]
    }
   ],
   "source": [
    "lists = input(\"Enter list elements: \").split()\n",
    "index = int(input(\"Enter index: \"))\n",
    "element = input(\"Enter element to insert: \")\n",
    "if index >= 0 and index < len(lists):\n",
    "    lists.insert(index, element)\n",
    "else:\n",
    "    print(\"Invalid index. Appends element at end\")\n",
    "    lists.append(element)\n",
    "print(\"Updated list:\", lists)\n"
   ]
  },
  {
   "cell_type": "code",
   "execution_count": null,
   "id": "e224d1bb-90dc-494b-a4a3-e526530f3358",
   "metadata": {},
   "outputs": [],
   "source": []
  }
 ],
 "metadata": {
  "kernelspec": {
   "display_name": "Python 3 (ipykernel)",
   "language": "python",
   "name": "python3"
  },
  "language_info": {
   "codemirror_mode": {
    "name": "ipython",
    "version": 3
   },
   "file_extension": ".py",
   "mimetype": "text/x-python",
   "name": "python",
   "nbconvert_exporter": "python",
   "pygments_lexer": "ipython3",
   "version": "3.13.5"
  }
 },
 "nbformat": 4,
 "nbformat_minor": 5
}
