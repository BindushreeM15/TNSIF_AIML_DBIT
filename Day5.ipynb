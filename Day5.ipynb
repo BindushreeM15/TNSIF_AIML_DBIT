{
 "cells": [
  {
   "cell_type": "code",
   "execution_count": 1,
   "id": "92f83df1-2dd2-4664-9ccd-64108bb15aa1",
   "metadata": {},
   "outputs": [
    {
     "name": "stdout",
     "output_type": "stream",
     "text": [
      "('hi', 1, 'prog')\n"
     ]
    }
   ],
   "source": [
    "tup1=('hi',1,'prog')\n",
    "print(tup1)"
   ]
  },
  {
   "cell_type": "code",
   "execution_count": 2,
   "id": "b8cb9c90-2256-42fd-941d-7b93fefd3731",
   "metadata": {},
   "outputs": [
    {
     "name": "stdout",
     "output_type": "stream",
     "text": [
      "<class 'tuple'>\n"
     ]
    }
   ],
   "source": [
    "print(type(tup1))"
   ]
  },
  {
   "cell_type": "code",
   "execution_count": 14,
   "id": "8449427d-b0ce-4a77-adfb-775da37db4bb",
   "metadata": {},
   "outputs": [
    {
     "name": "stdout",
     "output_type": "stream",
     "text": [
      "('hi', 1, 'prog', 2, 6, 7)\n"
     ]
    }
   ],
   "source": [
    "tup2=(2,)\n",
    "tup3=tup1+tup2\n",
    "tup3+=(6,7)\n",
    "tup3+(10,) #doesn't add \n",
    "print(tup3)"
   ]
  },
  {
   "cell_type": "code",
   "execution_count": 19,
   "id": "bab12607-b540-4f9b-bcde-4f4d2b278017",
   "metadata": {},
   "outputs": [
    {
     "data": {
      "text/plain": [
       "True"
      ]
     },
     "execution_count": 19,
     "metadata": {},
     "output_type": "execute_result"
    }
   ],
   "source": [
    "6 in tup3"
   ]
  },
  {
   "cell_type": "code",
   "execution_count": 8,
   "id": "ecd1173c-28c8-4045-811b-7a1c71d0ece9",
   "metadata": {},
   "outputs": [
    {
     "name": "stdout",
     "output_type": "stream",
     "text": [
      "<class 'tuple'>\n"
     ]
    }
   ],
   "source": [
    "tu=()\n",
    "print(type(tu))"
   ]
  },
  {
   "cell_type": "code",
   "execution_count": 10,
   "id": "76c93057-d217-4e46-96f1-fc59b1453039",
   "metadata": {},
   "outputs": [
    {
     "name": "stdout",
     "output_type": "stream",
     "text": [
      "(1, 2, 3, 4)\n"
     ]
    }
   ],
   "source": [
    "li=tuple([1,2,3,4])\n",
    "print(li)"
   ]
  },
  {
   "cell_type": "code",
   "execution_count": 18,
   "id": "90304a52-812e-4beb-be57-d37a90996c58",
   "metadata": {},
   "outputs": [
    {
     "name": "stdin",
     "output_type": "stream",
     "text": [
      "Enter the no. of employees 3\n",
      " 1000\n",
      " 2000\n",
      " 3000\n"
     ]
    },
    {
     "name": "stdout",
     "output_type": "stream",
     "text": [
      "Minimum Salary: 1000\n",
      "Maximum Salary: 3000\n"
     ]
    }
   ],
   "source": [
    "n=int(input(\"Enter the no. of employees\"))\n",
    "salary=[]\n",
    "for i in range(n):\n",
    "    salaries = int(input())\n",
    "    salary.append(salaries)\n",
    "min_salary = min(salary)\n",
    "max_salary = max(salary)\n",
    "print(\"Minimum Salary:\", min_salary)\n",
    "print(\"Maximum Salary:\", max_salary)"
   ]
  },
  {
   "cell_type": "code",
   "execution_count": 21,
   "id": "178e0551-aa85-4ce2-b5f3-7166cb6e9216",
   "metadata": {},
   "outputs": [
    {
     "name": "stdout",
     "output_type": "stream",
     "text": [
      "(1, 2, 3)\n"
     ]
    }
   ],
   "source": [
    "seq=[1,2,3]\n",
    "print(tuple(seq))\n",
    "    "
   ]
  },
  {
   "cell_type": "code",
   "execution_count": 23,
   "id": "55633287-b1be-42b0-ae79-38973dee1bf7",
   "metadata": {},
   "outputs": [
    {
     "name": "stdout",
     "output_type": "stream",
     "text": [
      "('PYTHON',)\n",
      "1\n",
      "4\n",
      "(10, 20, 30, 10, 20, 30, 10, 20, 30)\n"
     ]
    }
   ],
   "source": [
    "t=tuple()\n",
    "t=t+('PYTHON',)\n",
    "print(t)\n",
    "print(len(t))\n",
    "t1=(10,20,30)\n",
    "t2=t1+t\n",
    "print(len(t2))\n",
    "t3=t1*3\n",
    "print(t3)"
   ]
  },
  {
   "cell_type": "code",
   "execution_count": 28,
   "id": "e6d00f6e-64ef-41aa-a776-9fd31921d779",
   "metadata": {},
   "outputs": [
    {
     "name": "stdin",
     "output_type": "stream",
     "text": [
      "Enter the employees 1\n",
      "Enter name of employee 1:  abc\n",
      "Enter number of employee 1:  100\n"
     ]
    },
    {
     "name": "stdout",
     "output_type": "stream",
     "text": [
      "abc: 100\n",
      "dict_keys(['abc'])\n",
      "dict_values(['100'])\n"
     ]
    }
   ],
   "source": [
    "n=int(input(\"Enter the employees\"))\n",
    "employees={}\n",
    "for i in range(n):\n",
    "    name = input(\"Enter name of employee : \")\n",
    "    num = input(\"Enter number of employee: \")\n",
    "    employees[name] = num\n",
    "for name, num in employees.items():\n",
    "    print(f\"{name}: {num}\")\n",
    "print(employees.keys())\n",
    "print(employees.values())"
   ]
  },
  {
   "cell_type": "code",
   "execution_count": null,
   "id": "09834ce9-ac0a-4d69-82c1-b064cf3c4822",
   "metadata": {},
   "outputs": [],
   "source": []
  }
 ],
 "metadata": {
  "kernelspec": {
   "display_name": "Python 3 (ipykernel)",
   "language": "python",
   "name": "python3"
  },
  "language_info": {
   "codemirror_mode": {
    "name": "ipython",
    "version": 3
   },
   "file_extension": ".py",
   "mimetype": "text/x-python",
   "name": "python",
   "nbconvert_exporter": "python",
   "pygments_lexer": "ipython3",
   "version": "3.13.5"
  }
 },
 "nbformat": 4,
 "nbformat_minor": 5
}
