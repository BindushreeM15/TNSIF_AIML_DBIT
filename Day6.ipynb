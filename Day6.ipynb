{
 "cells": [
  {
   "cell_type": "code",
   "execution_count": 13,
   "id": "c2ffcda4-fb55-491d-a007-9340c3b1d78d",
   "metadata": {},
   "outputs": [
    {
     "name": "stdout",
     "output_type": "stream",
     "text": [
      "[1 2 3]\n",
      "[[1 2 3]\n",
      " [4 5 6]]\n",
      "[2 4 6]\n",
      "[2 4 6]\n",
      "[[ 0  1  2  3]\n",
      " [ 4  5  6  7]\n",
      " [ 8  9 10 11]]\n",
      "[[19 22]\n",
      " [43 50]]\n"
     ]
    }
   ],
   "source": [
    "import numpy as np\n",
    "ar1=np.array([1,2,3])\n",
    "ar2=np.array([[1,2,3],[4,5,6]])\n",
    "print(ar1)\n",
    "print(ar2)\n",
    "\n",
    "print(ar1*2)\n",
    "print(ar1+ar1)\n",
    "\n",
    "import numpy as np\n",
    "ar3=np.arange(12).reshape(3,4)\n",
    "print(ar3)\n",
    "\n",
    "matrix1=np.array([[1,2],[3,4]])\n",
    "matrix2=np.array([[5,6],[7,8]])\n",
    "print(np.dot(matrix1,matrix2))\n",
    "\n",
    "\n"
   ]
  },
  {
   "cell_type": "code",
   "execution_count": 12,
   "id": "79ff7d53-b4b2-4f3a-994c-fdc299273c88",
   "metadata": {},
   "outputs": [
    {
     "name": "stdout",
     "output_type": "stream",
     "text": [
      "mean:0.07675923385507381 , SD:0.9659356124500862\n"
     ]
    }
   ],
   "source": [
    "import numpy as np\n",
    "data=np.random.normal(0,1,100)\n",
    "print(f'mean:{data.mean()} , SD:{data.std()}')"
   ]
  },
  {
   "cell_type": "code",
   "execution_count": 2,
   "id": "92d6cb8f-9ff0-4b2d-9b18-6c9a3ef43c6b",
   "metadata": {},
   "outputs": [
    {
     "name": "stdout",
     "output_type": "stream",
     "text": [
      "      Name  Age  Salary\n",
      "0    Alice   25   50000\n",
      "1      Bob   30   60000\n",
      "2  Charlie   35   70000\n",
      "3    David   40   80000\n",
      "    Name  Age  Salary\n",
      "0  Alice   25   50000\n",
      "1    Bob   30   60000\n",
      "             Age        Salary\n",
      "count   4.000000      4.000000\n",
      "mean   32.500000  65000.000000\n",
      "std     6.454972  12909.944487\n",
      "min    25.000000  50000.000000\n",
      "25%    28.750000  57500.000000\n",
      "50%    32.500000  65000.000000\n",
      "75%    36.250000  72500.000000\n",
      "max    40.000000  80000.000000\n",
      "32.5\n",
      "      Name  Age  Salary\n",
      "2  Charlie   35   70000\n",
      "3    David   40   80000\n",
      "      Name  Salary\n",
      "1      Bob   60000\n",
      "2  Charlie   70000\n",
      "     A    B\n",
      "0  1.0  5.0\n",
      "1  2.0  0.0\n",
      "2  0.0  0.0\n",
      "3  4.0  8.0\n",
      "     A    B\n",
      "0  1.0  5.0\n",
      "3  4.0  8.0\n",
      "             Age   Salary\n",
      "Department               \n",
      "HR          32.5  65000.0\n",
      "Tech        32.5  65000.0\n",
      "      Name  Age  Salary Department   Bonus\n",
      "0    Alice   25   50000         HR  2000.0\n",
      "1      Bob   30   60000       Tech  1500.0\n",
      "2  Charlie   35   70000       Tech     NaN\n",
      "3    David   40   80000         HR     NaN\n",
      "                value\n",
      "date                 \n",
      "2023-01-01  89.666667\n",
      "2023-01-04  48.333333\n",
      "2023-01-07  60.666667\n",
      "2023-01-10  93.000000\n"
     ]
    }
   ],
   "source": [
    "import pandas as pd\n",
    "import numpy as np\n",
    "data={\n",
    "    'Name':['Alice','Bob','Charlie','David'],\n",
    "    'Age':[25,30,35,40],\n",
    "    'Salary':[50000,60000,70000,80000]\n",
    "}\n",
    "df=pd.DataFrame(data)\n",
    "print(df)\n",
    "\n",
    "print(df.head(2))\n",
    "print(df.describe())\n",
    "print(df['Age'].mean())\n",
    "\n",
    "print(df[df['Age']>30])\n",
    "print(df.loc[1:2, ['Name','Salary']])\n",
    "\n",
    "df_with_nan=pd.DataFrame({\n",
    "    'A':[1,2,np.nan,4],\n",
    "    'B':[5,np.nan,np.nan,8]\n",
    "})\n",
    "print(df_with_nan.fillna(value=0))\n",
    "print(df_with_nan.dropna())\n",
    "\n",
    "df['Department']=['HR','Tech','Tech','HR']\n",
    "print(df.groupby('Department')[['Age', 'Salary']].mean())\n",
    "\n",
    "df2=pd.DataFrame({\n",
    "    'Name':['Alice','Bob','Eve'],\n",
    "    'Bonus':[2000,1500,3000]\n",
    "\n",
    "})\n",
    "print(pd.merge(df,df2,on='Name', how='left'))\n",
    "\n",
    "date_rng=pd.date_range(start='1/1/2023', end='1/10/2023',freq='D')\n",
    "ts=pd.DataFrame(date_rng,columns=['date'])\n",
    "ts['value']=np.random.randint(0,100,size=(len(date_rng)))\n",
    "ts.set_index('date',inplace=True)\n",
    "print(ts.resample('3D').mean())"
   ]
  },
  {
   "cell_type": "code",
   "execution_count": null,
   "id": "bf17e255-2dca-4192-874a-5d5ccd5ee50d",
   "metadata": {},
   "outputs": [],
   "source": []
  }
 ],
 "metadata": {
  "kernelspec": {
   "display_name": "Python 3 (ipykernel)",
   "language": "python",
   "name": "python3"
  },
  "language_info": {
   "codemirror_mode": {
    "name": "ipython",
    "version": 3
   },
   "file_extension": ".py",
   "mimetype": "text/x-python",
   "name": "python",
   "nbconvert_exporter": "python",
   "pygments_lexer": "ipython3",
   "version": "3.13.5"
  }
 },
 "nbformat": 4,
 "nbformat_minor": 5
}
