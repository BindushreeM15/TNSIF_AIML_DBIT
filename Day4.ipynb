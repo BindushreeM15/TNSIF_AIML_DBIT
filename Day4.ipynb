{
 "cells": [
  {
   "cell_type": "code",
   "execution_count": 1,
   "id": "ca372d6b-673e-4bc5-8370-b5926b11ffb7",
   "metadata": {},
   "outputs": [
    {
     "name": "stdout",
     "output_type": "stream",
     "text": [
      "{'ABC': 1234, 'DEF': 5678, 'GHI': 9012}\n"
     ]
    },
    {
     "name": "stdin",
     "output_type": "stream",
     "text": [
      "Enter the name DEF\n",
      "Enter the new number 8765\n"
     ]
    },
    {
     "name": "stdout",
     "output_type": "stream",
     "text": [
      "Success\n"
     ]
    }
   ],
   "source": [
    "book={\"ABC\":1234,\"DEF\":5678,\"GHI\":9012}\n",
    "print(book)\n",
    "name=input(\"Enter the name\")\n",
    "if name in book:\n",
    "    new=int(input(\"Enter the new number\"))\n",
    "    book[name]=new\n",
    "    print(\"Success\")\n",
    "else:\n",
    "    print(\"Name not found\")"
   ]
  },
  {
   "cell_type": "code",
   "execution_count": 3,
   "id": "6a226cda-07db-44fe-a823-a43b2fbd2c1a",
   "metadata": {},
   "outputs": [
    {
     "name": "stdout",
     "output_type": "stream",
     "text": [
      "{'ABC': 1234, 'DEF': 5678, 'GHI': 9012}\n"
     ]
    },
    {
     "name": "stdin",
     "output_type": "stream",
     "text": [
      "Enter the name ABCD\n"
     ]
    },
    {
     "name": "stdout",
     "output_type": "stream",
     "text": [
      "Name not found\n"
     ]
    }
   ],
   "source": [
    "book={\"ABC\":1234,\"DEF\":5678,\"GHI\":9012}\n",
    "print(book)\n",
    "name=input(\"Enter the name\")\n",
    "if name in book:\n",
    "    new=int(input(\"Enter the new number\"))\n",
    "    book[name]=new\n",
    "    print(\"Success\")\n",
    "else:\n",
    "    print(\"Name not found\")"
   ]
  },
  {
   "cell_type": "code",
   "execution_count": 4,
   "id": "bb65cf10-887f-493a-b1b7-fd47716e9f7f",
   "metadata": {},
   "outputs": [
    {
     "name": "stdout",
     "output_type": "stream",
     "text": [
      "{'ABC': 1234, 'DEF': 5678, 'GHI': 9012, 'XYZ': 7890}\n"
     ]
    }
   ],
   "source": [
    "book[\"XYZ\"]=7890\n",
    "print(book)"
   ]
  },
  {
   "cell_type": "code",
   "execution_count": 5,
   "id": "9a8e0f1c-e525-4215-ba1c-9adfc37b7dea",
   "metadata": {},
   "outputs": [
    {
     "name": "stdout",
     "output_type": "stream",
     "text": [
      "{'ABC': 1234, 'DEF': 5678, 'GHI': 9012, 'XYZ': 7890, 'POQ': 1530}\n"
     ]
    }
   ],
   "source": [
    "book.update({\"POQ\":1530})\n",
    "print(book)"
   ]
  },
  {
   "cell_type": "code",
   "execution_count": 6,
   "id": "c6aa2146-fba8-4316-a20b-458092db8c21",
   "metadata": {},
   "outputs": [
    {
     "name": "stdin",
     "output_type": "stream",
     "text": [
      "Enter the name POQ\n"
     ]
    },
    {
     "name": "stdout",
     "output_type": "stream",
     "text": [
      "Success\n"
     ]
    }
   ],
   "source": [
    "name=input(\"Enter the name\")\n",
    "if name in book:\n",
    "    del book[name]\n",
    "    print(\"Success\")\n",
    "else:\n",
    "    print(\"Name not found\")"
   ]
  },
  {
   "cell_type": "code",
   "execution_count": 7,
   "id": "4b74aefa-d4c3-4cc2-905a-9ba35fdf3285",
   "metadata": {},
   "outputs": [
    {
     "name": "stdout",
     "output_type": "stream",
     "text": [
      "{'ABC': 1234, 'DEF': 5678, 'GHI': 9012, 'XYZ': 7890}\n"
     ]
    }
   ],
   "source": [
    "print(book)"
   ]
  },
  {
   "cell_type": "code",
   "execution_count": 14,
   "id": "71d5ab61-c035-467a-898f-5aa9f59d4732",
   "metadata": {},
   "outputs": [
    {
     "name": "stdout",
     "output_type": "stream",
     "text": [
      "{'b': 1, 'c': 2}\n"
     ]
    }
   ],
   "source": [
    "a={\"b\":1,\"c\":2}\n",
    "print(a)\n",
    "del a"
   ]
  },
  {
   "cell_type": "code",
   "execution_count": 13,
   "id": "13b5a782-a42c-433f-8d2a-995ad9bdc593",
   "metadata": {},
   "outputs": [
    {
     "name": "stdout",
     "output_type": "stream",
     "text": [
      "{}\n"
     ]
    }
   ],
   "source": [
    "var={\"a\":1,\"b\":2,\"c\":3}\n",
    "var.clear()\n",
    "print(var)"
   ]
  },
  {
   "cell_type": "code",
   "execution_count": 1,
   "id": "e2aa619a-6b4b-4bf8-b1be-980171124a4f",
   "metadata": {},
   "outputs": [
    {
     "name": "stdout",
     "output_type": "stream",
     "text": [
      "dict_keys(['poq', 'xyz', 'ghi'])\n",
      "dict_values([1, 7, 19])\n",
      "3\n"
     ]
    }
   ],
   "source": [
    "b={\"poq\":1,\"xyz\":7,\"ghi\":19}\n",
    "print(b.keys())\n",
    "print(b.values())\n",
    "print(len(b))"
   ]
  },
  {
   "cell_type": "code",
   "execution_count": null,
   "id": "979fc2dc-38c6-481e-9495-ad6a88de0178",
   "metadata": {},
   "outputs": [],
   "source": []
  }
 ],
 "metadata": {
  "kernelspec": {
   "display_name": "Python 3 (ipykernel)",
   "language": "python",
   "name": "python3"
  },
  "language_info": {
   "codemirror_mode": {
    "name": "ipython",
    "version": 3
   },
   "file_extension": ".py",
   "mimetype": "text/x-python",
   "name": "python",
   "nbconvert_exporter": "python",
   "pygments_lexer": "ipython3",
   "version": "3.13.5"
  }
 },
 "nbformat": 4,
 "nbformat_minor": 5
}
